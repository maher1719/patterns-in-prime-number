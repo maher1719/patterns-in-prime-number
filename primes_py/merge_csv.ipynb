{
 "cells": [
  {
   "cell_type": "code",
   "execution_count": 21,
   "metadata": {},
   "outputs": [
    {
     "name": "stdout",
     "output_type": "stream",
     "text": [
      "CSV files merged successfully!\n"
     ]
    }
   ],
   "source": [
    "import pandas as pd\n",
    "import glob\n",
    "\n",
    "# List of CSV files to merge\n",
    "csv_files = glob.glob('*counts .csv')\n",
    "\n",
    "# Initialize an empty DataFrame to store the merged data\n",
    "merged_df = pd.DataFrame()\n",
    "\n",
    "# Loop through each CSV file and merge its content\n",
    "for file in csv_files:\n",
    "    df = pd.read_csv(file)\n",
    "    merged_df = pd.concat([merged_df, df], ignore_index=True)\n",
    "\n",
    "# Group by 'Value' and sum the 'Count'\n",
    "merged_df = merged_df.groupby('Value', as_index=False).sum()\n",
    "\n",
    "# Save the merged DataFrame to a new CSV file\n",
    "merged_df.to_csv('merged_output.csv', index=False)\n",
    "\n",
    "print(\"CSV files merged successfully!\")\n"
   ]
  },
  {
   "cell_type": "code",
   "execution_count": null,
   "metadata": {},
   "outputs": [
    {
     "name": "stdout",
     "output_type": "stream",
     "text": [
      "Reading file: ./30001 to 32000  counts .csv\n",
      "Reading file: ./20001 to 22000  counts .csv\n",
      "Reading file: ./22001 to 24000  counts .csv\n",
      "Reading file: ./34001 to 36000  counts .csv\n",
      "Reading file: ./32001 to 34000  counts .csv\n",
      "Reading file: ./28001 to 30000  counts .csv\n",
      "Reading file: ./24001 to 26000  counts .csv\n",
      "Reading file: ./26001 to 28000  counts .csv\n",
      "['30001 to 32000  counts .csv', '20001 to 22000  counts .csv', '22001 to 24000  counts .csv', '34001 to 36000  counts .csv', '32001 to 34000  counts .csv', '28001 to 30000  counts .csv', '24001 to 26000  counts .csv', '26001 to 28000  counts .csv']\n"
     ]
    }
   ],
   "source": [
    "import pandas as pd\n",
    "import os\n",
    "file=[]\n",
    "directory=\".\"\n",
    "for filename in os.listdir(\".\"):\n",
    "    # Check if the file ends with \"count.csv\"\n",
    "    if filename.endswith('counts .csv'):\n",
    "        file.append(filename)\n",
    "        file_path = os.path.join(directory, filename)\n",
    "        df = pd.read_csv(file_path)\n",
    "        print(f\"Reading file: {file_path}\")\n",
    "        merged_df = pd.concat([merged_df, df], ignore_index=True)\n",
    "csv_files = glob.glob('*counts .csv')\n",
    "print(csv_files)"
   ]
  }
 ],
 "metadata": {
  "kernelspec": {
   "display_name": "primes",
   "language": "python",
   "name": "python3"
  },
  "language_info": {
   "codemirror_mode": {
    "name": "ipython",
    "version": 3
   },
   "file_extension": ".py",
   "mimetype": "text/x-python",
   "name": "python",
   "nbconvert_exporter": "python",
   "pygments_lexer": "ipython3",
   "version": "3.11.2"
  }
 },
 "nbformat": 4,
 "nbformat_minor": 2
}
