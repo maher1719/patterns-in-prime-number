{
 "cells": [
  {
   "cell_type": "code",
   "execution_count": 1,
   "metadata": {},
   "outputs": [
    {
     "name": "stdout",
     "output_type": "stream",
     "text": [
      "Columns sorted and saved to sorted_columns.csv\n"
     ]
    }
   ],
   "source": [
    "import pandas as pd\n",
    "\n",
    "# Step 1: Load the CSV file\n",
    "input_file = 'primes_py/18001 to 20000 primes_multiplier_each_number.csv'  # Replace with your file name\n",
    "output_file = 'sorted_columns.csv'  # Desired output file name\n",
    "data = pd.read_csv(input_file)\n",
    "\n",
    "# Step 2: Extract and sort column headers\n",
    "# Assuming headers are in the format 'number_plus/minus_index'\n",
    "def sort_key(col):\n",
    "    # Split by underscore to extract the parts\n",
    "    parts = col.split('_')\n",
    "    if len(parts) == 3:\n",
    "        number, sign, index = parts\n",
    "        number = int(number)  # Convert to integer for sorting\n",
    "        index = int(index)  # Convert to integer for sorting\n",
    "        return (number, sign, index)  # Sorting key\n",
    "    return (float('inf'), col, float('inf'))  # Default for unexpected columns\n",
    "\n",
    "sorted_columns = sorted(data.columns, key=sort_key)\n",
    "\n",
    "# Step 3: Rearrange the columns in the DataFrame\n",
    "sorted_data = data[sorted_columns]\n",
    "\n",
    "# Step 4: Save to a new CSV file\n",
    "sorted_data.to_csv(output_file, index=False)\n",
    "print(f\"Columns sorted and saved to {output_file}\")\n"
   ]
  },
  {
   "cell_type": "code",
   "execution_count": null,
   "metadata": {},
   "outputs": [
    {
     "name": "stdout",
     "output_type": "stream",
     "text": [
      "Organized data has been exported to organized_output15001.csv\n"
     ]
    }
   ],
   "source": [
    "\n",
    "import pandas as pd\n",
    "import re\n",
    "\n",
    "# Step 1: Read the CSV file\n",
    "input_file = '15001 to 18000 primes_multiplier_each_number.csv'  # Replace with your input file path\n",
    "\n",
    "df = pd.read_csv(input_file)\n",
    "\n",
    "# Step 2: Identify Column Pairs\n",
    "column_pairs = {}\n",
    "for column in df.columns:\n",
    "    match = re.match(r'(\\d+)_(plus|minus)_1', column)\n",
    "    if match:\n",
    "        base_number, suffix = match.groups()\n",
    "        if base_number not in column_pairs:\n",
    "            column_pairs[base_number] = {'plus': None, 'minus': None}\n",
    "        column_pairs[base_number][suffix] = column\n",
    "\n",
    "# Step 3: Filter Rows\n",
    "filtered_data = []\n",
    "for base_number, columns in column_pairs.items():\n",
    "    plus_column = columns['plus']\n",
    "    minus_column = columns['minus']\n",
    "\n",
    "    # Filter rows where values are identical and not zero\n",
    "    filtered_df = df[(df[plus_column] == df[minus_column]) & (df[plus_column] != 0)][[plus_column, minus_column]]\n",
    "    filtered_data.append(filtered_df)\n",
    "\n",
    "# Step 4: Combine Filtered Data\n",
    "combined_df = pd.concat(filtered_data, axis=1)\n",
    "\n",
    "# Step 5: Sort and Spread Values\n",
    "# Sort the DataFrame to put non-NaN values at the top\n",
    "sorted_df = combined_df.apply(lambda x: pd.Series(x.dropna().values))\n",
    "\n",
    "# Step 6: Export to CSV\n",
    "output_file = 'organized_output15001.csv'  # Replace with your desired output file path\n",
    "sorted_df.to_csv(output_file, index=False)\n",
    "\n",
    "print(f\"Organized data has been exported to {output_file}\")\n"
   ]
  },
  {
   "cell_type": "code",
   "execution_count": 19,
   "metadata": {},
   "outputs": [
    {
     "name": "stdout",
     "output_type": "stream",
     "text": [
      "Top 90% columns data has been exported to 30001top_90_percent_columns_output.csv\n"
     ]
    }
   ],
   "source": [
    "import pandas as pd\n",
    "\n",
    "# Step 1: Read the Output CSV File\n",
    "output_file = 'organized_output30001.csv'  # Replace with your output file path\n",
    "df = pd.read_csv(output_file)\n",
    "\n",
    "# Step 2: Calculate the Number of Columns for the Top 90%\n",
    "total_columns = df.shape[1]\n",
    "top_90_percent_columns = int(total_columns * 0.9)\n",
    "\n",
    "# Step 3: Filter the Top 90% Columns\n",
    "# Calculate the number of non-NaN values in each column\n",
    "non_nan_counts = df.count()\n",
    "\n",
    "# Select the top 90% of columns with the most non-NaN values\n",
    "top_90_percent_columns_list = non_nan_counts.nlargest(top_90_percent_columns).index\n",
    "\n",
    "# Filter the DataFrame to include only these columns\n",
    "top_90_percent_df = df[top_90_percent_columns_list]\n",
    "\n",
    "# Step 4: Export to CSV\n",
    "top_90_percent_output_file = '30001top_90_percent_columns_output.csv'  # Replace with your desired output file path\n",
    "top_90_percent_df.to_csv(top_90_percent_output_file, index=False)\n",
    "\n",
    "print(f\"Top 90% columns data has been exported to {top_90_percent_output_file}\")\n"
   ]
  },
  {
   "cell_type": "code",
   "execution_count": 3,
   "metadata": {},
   "outputs": [
    {
     "name": "stdout",
     "output_type": "stream",
     "text": [
      "Intersections data has been exported to intersections_output2.csv\n"
     ]
    }
   ],
   "source": [
    "import pandas as pd\n",
    "import re\n",
    "\n",
    "# Step 1: Read the CSV file\n",
    "input_file = '30001 to 32000 primes_multiplier_each_number.csv'  # Replace with your input file path\n",
    "\n",
    "df = pd.read_csv(input_file)\n",
    "\n",
    "# Step 2: Identify Column Pairs\n",
    "column_pairs = {}\n",
    "for column in df.columns:\n",
    "    match = re.match(r'(\\d+)_(plus|minus)_1', column)\n",
    "    if match:\n",
    "        base_number, suffix = match.groups()\n",
    "        if base_number not in column_pairs:\n",
    "            column_pairs[base_number] = {'plus': None, 'minus': None}\n",
    "        column_pairs[base_number][suffix] = column\n",
    "\n",
    "# Step 3: Convert Columns to Sets and Calculate Intersections\n",
    "intersections = {}\n",
    "for base_number, columns in column_pairs.items():\n",
    "    plus_column = columns['plus']\n",
    "    minus_column = columns['minus']\n",
    "\n",
    "    # Convert columns to sets, excluding zeros\n",
    "    plus_set = set(df[plus_column][df[plus_column] != 0])\n",
    "    minus_set = set(df[minus_column][df[minus_column] != 0])\n",
    "\n",
    "    # Calculate the intersection of the sets\n",
    "    intersection = plus_set.intersection(minus_set)\n",
    "\n",
    "    # Store the intersection in a dictionary\n",
    "    intersections[base_number] = intersection\n",
    "\n",
    "# Step 4: Create a DataFrame with Base Numbers as Headers\n",
    "# Find the maximum length of intersections to create a DataFrame with the correct shape\n",
    "max_length = max(len(intersection) for intersection in intersections.values())\n",
    "\n",
    "# Create a DataFrame with base numbers as headers and fill with NaN\n",
    "intersection_df = pd.DataFrame(index=range(max_length), columns=intersections.keys())\n",
    "\n",
    "# Fill the DataFrame with intersection values\n",
    "for base_number, intersection in intersections.items():\n",
    "    intersection_df[base_number] = pd.Series(list(intersection) + [None] * (max_length - len(intersection)))\n",
    "\n",
    "# Step 5: Sort Values within Each Column\n",
    "for column in intersection_df.columns:\n",
    "    intersection_df[column] = pd.Series(intersection_df[column].dropna().sort_values().values)\n",
    "\n",
    "# Step 6: Export to CSV\n",
    "intersection_output_file = 'intersections_output2.csv'  # Replace with your desired output file path\n",
    "intersection_df.to_csv(intersection_output_file, index=False)\n",
    "\n",
    "print(f\"Intersections data has been exported to {intersection_output_file}\")\n",
    "\n"
   ]
  },
  {
   "cell_type": "code",
   "execution_count": 4,
   "metadata": {},
   "outputs": [
    {
     "name": "stdout",
     "output_type": "stream",
     "text": [
      "Intersections data has been exported to intersections_output_sorted.csv\n"
     ]
    }
   ],
   "source": [
    "import pandas as pd\n",
    "import re\n",
    "\n",
    "# Step 1: Read the CSV file\n",
    "input_file = '30001 to 32000 primes_multiplier_each_number.csv'  # Replace with your input file path\n",
    "\n",
    "df = pd.read_csv(input_file)\n",
    "\n",
    "# Step 2: Identify Column Pairs\n",
    "column_pairs = {}\n",
    "for column in df.columns:\n",
    "    match = re.match(r'(\\d+)_(plus|minus)_1', column)\n",
    "    if match:\n",
    "        base_number, suffix = match.groups()\n",
    "        if base_number not in column_pairs:\n",
    "            column_pairs[base_number] = {'plus': None, 'minus': None}\n",
    "        column_pairs[base_number][suffix] = column\n",
    "\n",
    "# Step 3: Convert Columns to Sets and Calculate Intersections\n",
    "intersections = {}\n",
    "for base_number, columns in column_pairs.items():\n",
    "    plus_column = columns['plus']\n",
    "    minus_column = columns['minus']\n",
    "\n",
    "    # Convert columns to sets, excluding zeros\n",
    "    plus_set = set(df[plus_column][df[plus_column] != 0])\n",
    "    minus_set = set(df[minus_column][df[minus_column] != 0])\n",
    "\n",
    "    # Calculate the intersection of the sets\n",
    "    intersection = plus_set.intersection(minus_set)\n",
    "\n",
    "    # Store the intersection in a dictionary\n",
    "    intersections[base_number] = intersection\n",
    "\n",
    "# Step 4: Create a DataFrame with Base Numbers as Headers\n",
    "# Find the maximum length of intersections to create a DataFrame with the correct shape\n",
    "max_length = max(len(intersection) for intersection in intersections.values())\n",
    "\n",
    "# Create a DataFrame with base numbers as headers and fill with NaN\n",
    "intersection_df = pd.DataFrame(index=range(max_length), columns=intersections.keys())\n",
    "\n",
    "# Fill the DataFrame with intersection values\n",
    "for base_number, intersection in intersections.items():\n",
    "    intersection_df[base_number] = pd.Series(list(intersection) + [None] * (max_length - len(intersection)))\n",
    "\n",
    "# Step 5: Sort Values within Each Column\n",
    "for column in intersection_df.columns:\n",
    "    intersection_df[column] = pd.Series(intersection_df[column].dropna().sort_values().values)\n",
    "\n",
    "# Step 6: Sort the Headers\n",
    "intersection_df = intersection_df.reindex(sorted(intersection_df.columns), axis=1)\n",
    "\n",
    "# Step 7: Export to CSV\n",
    "intersection_output_file = 'intersections_output_sorted.csv'  # Replace with your desired output file path\n",
    "intersection_df.to_csv(intersection_output_file, index=False)\n",
    "\n",
    "print(f\"Intersections data has been exported to {intersection_output_file}\")\n"
   ]
  },
  {
   "cell_type": "code",
   "execution_count": 5,
   "metadata": {},
   "outputs": [
    {
     "name": "stdout",
     "output_type": "stream",
     "text": [
      "Value counts data has been exported to value_counts_output.csv\n"
     ]
    }
   ],
   "source": [
    "import pandas as pd\n",
    "\n",
    "# Step 1: Read the intersections_output.csv file\n",
    "intersections_output_file = 'intersections_output_sorted.csv'  # Replace with your input file path\n",
    "df = pd.read_csv(intersections_output_file)\n",
    "\n",
    "# Step 2: Count the Number of Values for Each Header\n",
    "value_counts = df.count()\n",
    "\n",
    "# Step 3: Create a DataFrame with the Counts\n",
    "counts_df = value_counts.reset_index()\n",
    "counts_df.columns = ['base_number', 'value_count']\n",
    "\n",
    "# Step 4: Export to CSV\n",
    "counts_output_file = 'value_counts_output.csv'  # Replace with your desired output file path\n",
    "counts_df.to_csv(counts_output_file, index=False)\n",
    "\n",
    "print(f\"Value counts data has been exported to {counts_output_file}\")\n"
   ]
  }
 ],
 "metadata": {
  "kernelspec": {
   "display_name": "primes",
   "language": "python",
   "name": "python3"
  },
  "language_info": {
   "codemirror_mode": {
    "name": "ipython",
    "version": 3
   },
   "file_extension": ".py",
   "mimetype": "text/x-python",
   "name": "python",
   "nbconvert_exporter": "python",
   "pygments_lexer": "ipython3",
   "version": "3.11.2"
  }
 },
 "nbformat": 4,
 "nbformat_minor": 2
}
