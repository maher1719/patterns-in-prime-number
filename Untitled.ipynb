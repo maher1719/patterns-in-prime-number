{
 "cells": [
  {
   "cell_type": "code",
   "execution_count": 2,
   "id": "bdd9d7bf",
   "metadata": {},
   "outputs": [
    {
     "name": "stdout",
     "output_type": "stream",
     "text": [
      "Mean of samples: 2.833\n",
      "Variance of samples: 1.7431109999999999\n"
     ]
    }
   ],
   "source": [
    "import numpy as np\n",
    "from scipy.special import factorial\n",
    "from scipy.optimize import root_scalar\n",
    "\n",
    "# Define the CMP PMF\n",
    "def cmp_pmf(x, lam, nu, Z_lam_nu):\n",
    "    return (lam ** x) / (factorial(x) ** nu) / Z_lam_nu\n",
    "\n",
    "# Normalization constant Z(λ, ν)\n",
    "def cmp_normalization(lam, nu, max_k=100):\n",
    "    # Approximate the sum for the normalization constant\n",
    "    Z = np.sum([(lam ** k) / (factorial(k) ** nu) for k in range(max_k)])\n",
    "    return Z\n",
    "\n",
    "# Random sample generator for CMP distribution using acceptance-rejection method\n",
    "def cmp_rvs(lam, nu, size=1):\n",
    "    max_k = 100  # Limit for normalization approximation\n",
    "    Z = cmp_normalization(lam, nu, max_k=max_k)\n",
    "    \n",
    "    samples = []\n",
    "    while len(samples) < size:\n",
    "        x = np.random.poisson(lam)  # Use Poisson as a proposal distribution\n",
    "        acceptance_ratio = cmp_pmf(x, lam, nu, Z) / (np.exp(-lam) * lam ** x / factorial(x))\n",
    "        \n",
    "        if np.random.uniform(0, 1) < acceptance_ratio:\n",
    "            samples.append(x)\n",
    "    \n",
    "    return np.array(samples)\n",
    "\n",
    "# Example: Generate CMP random samples with λ = 4, ν = 1.5\n",
    "lam = 4.0\n",
    "nu = 1.5\n",
    "size = 1000\n",
    "\n",
    "# Generate samples\n",
    "samples = cmp_rvs(lam, nu, size=size)\n",
    "\n",
    "# Output some statistics\n",
    "print(\"Mean of samples:\", np.mean(samples))\n",
    "print(\"Variance of samples:\", np.var(samples))\n"
   ]
  },
  {
   "cell_type": "code",
   "execution_count": null,
   "id": "81783c42",
   "metadata": {},
   "outputs": [],
   "source": []
  }
 ],
 "metadata": {
  "kernelspec": {
   "display_name": "SageMath 9.5",
   "language": "sage",
   "name": "sagemath"
  },
  "language_info": {
   "codemirror_mode": {
    "name": "ipython",
    "version": 3
   },
   "file_extension": ".py",
   "mimetype": "text/x-python",
   "name": "python",
   "nbconvert_exporter": "python",
   "pygments_lexer": "ipython3",
   "version": "3.11.2"
  }
 },
 "nbformat": 4,
 "nbformat_minor": 5
}
