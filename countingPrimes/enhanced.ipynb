{
  "cells": [
    {
      "cell_type": "markdown",
      "metadata": {
        "id": "AaIwRItUHWm5"
      },
      "source": [
        "Setup and import"
      ]
    },
    {
      "cell_type": "code",
      "execution_count": null,
      "metadata": {
        "id": "6JtIlGBhHTeb"
      },
      "outputs": [],
      "source": [
        "import numpy as np\n",
        "from scipy.optimize import fsolve\n",
        "from sympy import primepi\n",
        "import matplotlib.pyplot as plt\n",
        "import mpmath\n",
        "import csv\n",
        "import scipy\n",
        "from sklearn.metrics import r2_score\n",
        "from sklearn.metrics import mean_squared_error\n",
        "from scipy.optimize import leastsq\n",
        "from sklearn.linear_model import LinearRegression\n",
        "from sklearn.preprocessing import PolynomialFeatures\n",
        "from sklearn.linear_model import LinearRegression\n",
        "from sklearn.metrics import mean_squared_error, r2_score"
      ]
    },
    {
      "cell_type": "markdown",
      "metadata": {
        "id": "B5nSwHiy616N"
      },
      "source": [
        "Equation"
      ]
    },
    {
      "cell_type": "code",
      "execution_count": null,
      "metadata": {
        "id": "SDO86Q_1Hc7J"
      },
      "outputs": [],
      "source": [
        "def equation(x, a, pi_a):\n",
        "    argument = a - a / (x * np.pi / 2)\n",
        "    if argument <= 0:\n",
        "        return np.nan\n",
        "    result = pi_a - a / np.log(argument)\n",
        "    return float(result)\n"
      ]
    },
    {
      "cell_type": "code",
      "execution_count": null,
      "metadata": {
        "id": "W0NBtZFcHd9a"
      },
      "outputs": [],
      "source": [
        "# Define the range and step size for a\n",
        "a_start = 1000000000\n",
        "a_end =   9000000000\n",
        "a_step =  1000000000\n",
        "\n",
        "# Generate values for a\n",
        "a_values = np.arange(a_start, a_end + a_step, a_step)\n",
        "\n",
        "# Arrays to hold the results\n",
        "x_solutions = []\n",
        "f_values = []\n",
        "abs_li_minus_pi_values = []\n",
        "abs_f_minus_pi_values = []\n",
        "\n",
        "# Compute x for each value of a\n",
        "prime_pi=[]\n",
        "index=0\n",
        "for a in a_values:\n",
        "    pi_a = primepi(a)\n",
        "    prime_pi.append(pi_a)\n",
        "    # Use fsolve to find the root of the equation\n",
        "    x_initial_guess = 1\n",
        "    x_solution, = fsolve(equation, x_initial_guess, args=(a, pi_a))\n",
        "    print(a, x_solution)\n",
        "    x_solutions.append(x_solution)\n",
        "\n",
        "    # Calculate the modified f(x) using the solution x\n",
        "    if x_solution > 0:  # Ensure x_solution is positive\n",
        "        f_x = a / np.log(a - a / (x_solution * np.pi / 2))\n",
        "    else:\n",
        "        f_x = np.nan\n",
        "\n",
        "    f_values.append(f_x)\n",
        "\n",
        "    # Calculate Li(x) using mpmath\n",
        "    li_x = mpmath.li(a)\n",
        "\n",
        "    abs_li_minus_pi = np.abs(li_x - pi_a)\n",
        "    abs_f_minus_pi = np.abs(f_x - pi_a)\n",
        "\n",
        "    abs_li_minus_pi_values.append(abs_li_minus_pi)\n",
        "    abs_f_minus_pi_values.append(abs_f_minus_pi)\n"
      ]
    },
    {
      "cell_type": "code",
      "execution_count": null,
      "metadata": {
        "id": "ixVkyGSRHqmg"
      },
      "outputs": [],
      "source": [
        "# Perform linear regression on x_solutions based on a_values\n",
        "slope, intercept = np.polyfit(a_values, x_solutions, 1)\n",
        "print(f\"Linear regression equation: x = {slope:.32f} * a + {intercept:.32f}\")\n"
      ]
    },
    {
      "cell_type": "code",
      "execution_count": null,
      "metadata": {
        "id": "jtbYc6TfIzOy"
      },
      "outputs": [],
      "source": [
        "def logarithmic_regression(x, a):\n",
        "    def model(params, x):\n",
        "        c, d = params\n",
        "        return c + d * np.log(x)\n",
        "\n",
        "    def objective(params, x, y):\n",
        "        return model(params, x) - y\n",
        "\n",
        "    # Initial guess for parameters (c, d)\n",
        "    initial_params = [0, 1]\n",
        "\n",
        "    # Solve for parameters using nonlinear least squares\n",
        "    params, _ = scipy.optimize.leastsq(objective, initial_params, args=(x, a))\n",
        "\n",
        "    return params\n",
        "\n",
        "# Perform logarithmic regression on x_solutions based on a_values\n",
        "log_params = logarithmic_regression(a_values, np.array(x_solutions))\n",
        "log_predictions = log_params[0] + log_params[1] * np.log(a_values)\n",
        "log_params[1]\n",
        "print(f\"Logarithmic regression equation: x = {log_params[0]:.15f} + {log_params[1]:.15f} * log(a)\")"
      ]
    },
    {
      "cell_type": "markdown",
      "metadata": {
        "id": "_CgYqMicKpRS"
      },
      "source": [
        "Compute R^2 for log predictions"
      ]
    },
    {
      "cell_type": "code",
      "execution_count": null,
      "metadata": {
        "id": "KolRz3xEKmam"
      },
      "outputs": [],
      "source": [
        "r2_log = r2_score(x_solutions, log_predictions)\n",
        "print(f\"R-squared for Logarithmic Regression: {r2_log:.12f}\")"
      ]
    },
    {
      "cell_type": "markdown",
      "metadata": {
        "id": "VW4ZI6xcK7b6"
      },
      "source": [
        "Compute Mean Squared Error for the logarithmic regression"
      ]
    },
    {
      "cell_type": "code",
      "execution_count": null,
      "metadata": {
        "id": "glQ4N1oBK4xw"
      },
      "outputs": [],
      "source": [
        "# Compute Mean Squared Error for the logarithmic regression\n",
        "mse_log = mean_squared_error(x_solutions, log_predictions)\n",
        "print(f\"Mean Squared Error for Logarithmic Regression: {mse_log:.12f}\")"
      ]
    },
    {
      "cell_type": "code",
      "execution_count": null,
      "metadata": {
        "id": "-tc4FeHqLBOs"
      },
      "outputs": [],
      "source": [
        "# Compute Root Mean Squared Error for the logarithmic regression\n",
        "rmse_log = np.sqrt(mse_log)\n",
        "print(f\"Root Mean Squared Error for Logarithmic Regression: {rmse_log:.12f}\")"
      ]
    },
    {
      "cell_type": "code",
      "execution_count": null,
      "metadata": {
        "id": "hb5ap8nEHtuo"
      },
      "outputs": [],
      "source": [
        "def transformed_function(a, slope, intercept):\n",
        "    x = slope * a + intercept\n",
        "    if a - (0.6366197724 * a) / x <= 0:\n",
        "        return np.nan\n",
        "    pi=np.pi\n",
        "    return primepi(a) - (a / np.log(a - (0.6366197724 * a) / x))\n"
      ]
    },
    {
      "cell_type": "code",
      "execution_count": null,
      "metadata": {
        "id": "PF9UIsFg616W"
      },
      "outputs": [],
      "source": [
        "def transformed_function_log(a, p1, p2):\n",
        "    x = p1+ p2*np.log(a)\n",
        "    if a - (0.6366197724 * a) / x <= 0:\n",
        "        return np.nan\n",
        "    pi=np.pi\n",
        "    return primepi(a) - (a / np.log(a - (0.6366197724 * a) / x))"
      ]
    },
    {
      "cell_type": "code",
      "execution_count": null,
      "metadata": {
        "id": "seIclzZRIOWX"
      },
      "outputs": [],
      "source": [
        "transformed_values = [transformed_function(a, slope, intercept) for a in a_values]\n",
        "transformed_values_log = [transformed_function_log(a, log_params[0], log_params[1]) for a in a_values]"
      ]
    },
    {
      "cell_type": "code",
      "execution_count": null,
      "metadata": {
        "id": "D_2K6i8M616W"
      },
      "outputs": [],
      "source": [
        "X = a_values.reshape(-1, 1)\n",
        "\n",
        "# Create quadratic features (x and x^2)\n",
        "poly = PolynomialFeatures(degree=2)\n",
        "X_poly = poly.fit_transform(X)\n",
        "\n",
        "# Fit the model\n",
        "model = LinearRegression()\n",
        "model.fit(X_poly, transformed_values)\n",
        "\n",
        "# Predict the transformed values\n",
        "y_pred = model.predict(X_poly)\n",
        "\n",
        "#fit log\n",
        "\n",
        "poly3 = PolynomialFeatures(degree=3)\n",
        "X_poly = poly3.fit_transform(X)\n",
        "\n",
        "# Fit the model\n",
        "model2 = LinearRegression()\n",
        "\n",
        "model2.fit(X_poly, transformed_values_log)\n",
        "\n",
        "# Predict the transformed values\n",
        "y_pred2 = model2.predict(X_poly)\n",
        "\n",
        "# Evaluate the model\n",
        "mse = mean_squared_error(transformed_values, y_pred)\n",
        "r2 = r2_score(transformed_values, y_pred)\n",
        "beta_0 = model.intercept_  # Intercept (β_0)\n",
        "beta_1, beta_2 = model.coef_[1:]  # Coefficients for x and x^2 (β_1 and β_2)\n",
        "\n",
        "# Print the quadratic equation\n",
        "print(f\"The equation of the fitted quadratic polynomial is: y = {beta_0:.32f} + {beta_1:.32f}*x + {beta_2:.32f}*x^2\")\n",
        "\n",
        "print(f\"Mean Squared Error: {mse}\")\n",
        "print(f\"R-squared: {r2}\")\n",
        "\n",
        "\n",
        "\n",
        "mse = mean_squared_error(transformed_values_log, y_pred2)\n",
        "r2 = r2_score(transformed_values_log, y_pred2)\n",
        "#beta_0 = model2.intercept_  # Intercept (β_0)\n",
        "#beta_1, beta_2 = model.coef_[1:]\n",
        "\n",
        "#print(f\"The equation of the fitted quadratic polynomial is: y = {beta_0:.32f} + {beta_1:.32f}*x + {beta_2:.32f}*x^2\")\n",
        "\n",
        "print(f\"Mean Squared Error: {mse}\")\n",
        "print(f\"R-squared: {r2}\")\n",
        "\n",
        "# Plot the results\n",
        "plt.scatter(a_values, transformed_values, color='blue', label='Transformed values')\n",
        "plt.plot(a_values, y_pred, color='red', label='Quadratic fit')\n",
        "plt.xlabel('a_values')\n",
        "plt.ylabel('Transformed values')\n",
        "plt.title('Quadratic Polynomial Fit')\n",
        "plt.legend()\n",
        "plt.show()\n",
        "\n",
        "plt.scatter(a_values, transformed_values_log, color='blue', label='Transformed values')\n",
        "plt.plot(a_values, y_pred2, color='red', label='Quadratic fit')\n",
        "plt.xlabel('a_values')\n",
        "plt.ylabel('Transformed values')\n",
        "plt.title('Quadratic Polynomial Fit')\n",
        "plt.legend()\n",
        "plt.show()"
      ]
    },
    {
      "cell_type": "code",
      "execution_count": null,
      "metadata": {
        "id": "YItqZuPnIUeM"
      },
      "outputs": [],
      "source": [
        "# Save the results to a CSV file\n",
        "print(str(a_start))\n",
        "csv_filename = f\"results from {a_start} to {a_end}.csv\"\n",
        "print(csv_filename)\n",
        "with open(csv_filename, mode='w', newline='') as file:\n",
        "    writer = csv.writer(file)\n",
        "    writer.writerow(['a', 'x_solution', 'f(x)', '|Li(x) - pi(x)|', '|f(x) - pi(x)|'])\n",
        "    for a, x_solution, f_x, li_minus_pi, f_minus_pi in zip(a_values, x_solutions, f_values, abs_li_minus_pi_values, abs_f_minus_pi_values):\n",
        "        writer.writerow([a, x_solution, f_x, li_minus_pi, f_minus_pi])\n",
        "\n",
        "print(f\"Results saved to {csv_filename}\")\n"
      ]
    },
    {
      "cell_type": "code",
      "execution_count": null,
      "metadata": {
        "id": "ze6X1AlGLSir"
      },
      "outputs": [],
      "source": [
        "def adjusted_r2(r2, n, p):\n",
        "    return 1 - (1 - r2) * (n - 1) / (n - p - 1)\n",
        "\n",
        "# Number of observations and predictors\n",
        "n = len(a_values)\n",
        "p = 1  # Only one predictor in logarithmic regression\n",
        "\n",
        "adj_r2_log = adjusted_r2(r2_log, n, p)\n",
        "print(f\"Adjusted R-squared for Logarithmic Regression: {adj_r2_log:.32f}\")\n",
        "from scipy import stats\n",
        "residuals_log = np.array(x_solutions) - np.array(log_predictions)\n",
        "# Compute F-statistic and p-value\n",
        "ss_res = np.sum(residuals_log ** 2)\n",
        "ss_tot = np.sum((np.array(x_solutions) - np.mean(x_solutions)) ** 2)\n",
        "f_statistic = (ss_tot - ss_res) / p / (ss_res / (n - p - 1))\n",
        "p_value = 1 - stats.f.cdf(f_statistic, p, n - p - 1)\n",
        "print(f\"R-squared for Logarithmic Regression: {r2_log:.32}\")\n",
        "print(f\"Mean Squared Error for Logarithmic Regression: {mse_log:.32}\")\n",
        "print(f\"Root Mean Squared Error for Logarithmic Regression: {rmse_log:.32}\")\n",
        "print(f\"F-statistic for Logarithmic Regression: {f_statistic:.32}\")\n",
        "print(f\"P-value for F-statistic: {p_value:.32f}\")"
      ]
    },
    {
      "cell_type": "code",
      "execution_count": null,
      "metadata": {
        "id": "FyDPGYoGWE4w"
      },
      "outputs": [],
      "source": [
        "print(f\"Logarithmic regression equation: x = {log_params[0]:.32f} + {log_params[1]:.32f} * log(a)\")\n",
        "\n",
        "\"\"\"Compute R^2 for log predictions\"\"\"\n",
        "\n",
        "r2_log = r2_score(x_solutions, log_predictions)\n",
        "print(f\"R-squared for Logarithmic Regression: {r2_log:.32f}\")\n",
        "\n",
        "\"\"\"Compute Mean Squared Error for the logarithmic regression\"\"\"\n",
        "\n",
        "# Compute Mean Squared Error for the logarithmic regression\n",
        "mse_log = mean_squared_error(x_solutions, log_predictions)\n",
        "print(f\"Mean Squared Error for Logarithmic Regression: {mse_log:.32f}\")\n",
        "\n",
        "# Compute Root Mean Squared Error for the logarithmic regression\n",
        "rmse_log = np.sqrt(mse_log)\n",
        "print(f\"Root Mean Squared Error for Logarithmic Regression: {rmse_log:.32f}\")"
      ]
    },
    {
      "cell_type": "code",
      "execution_count": null,
      "metadata": {
        "id": "0V79KIthIXVM"
      },
      "outputs": [],
      "source": [
        "\n",
        "# Plot the linear regression line\n",
        "plt.figure(figsize=(12, 6))\n",
        "plt.plot(a_values, x_solutions, marker='o', linestyle='-', color='b', label='x solutions')\n",
        "plt.plot(a_values, slope * a_values + intercept, linestyle='--', color='g', label='Linear fit')\n",
        "plt.plot(a_values, log_predictions, linestyle='-.', color='r', label='Logarithmic fit')\n",
        "plt.xlabel('a')\n",
        "plt.ylabel('x')\n",
        "plt.title('Plot of x vs. a with Linear and Logarithmic Fits')\n",
        "plt.legend()\n",
        "plt.grid(True)\n",
        "plt.show()\n",
        "\n",
        "# Compute residuals\n",
        "residuals_log = np.array(x_solutions) - np.array(log_predictions)\n",
        "\n",
        "# Plot residuals\n",
        "plt.figure(figsize=(12, 6))\n",
        "plt.scatter(a_values, residuals_log, marker='o',linestyle='-', color='r', label='Residuals')\n",
        "plt.axhline(y=0, color='k', linestyle='--')\n",
        "plt.xlabel('a')\n",
        "plt.ylabel('Residuals')\n",
        "plt.title('Residuals Plot for Logarithmic Regression')\n",
        "plt.legend()\n",
        "plt.grid(True)\n",
        "plt.show()\n",
        "\n",
        "\n",
        "# Plotting |Li(x) - pi(x)| and |f(x) - pi(x)| on the same graph\n",
        "plt.figure(figsize=(12, 6))\n",
        "#plt.plot(a_values, abs_li_minus_pi_values, marker='o', linestyle='-', color='r', label='|Li(x) - pi(x)|')\n",
        "plt.plot(a_values, abs_f_minus_pi_values, marker='o', linestyle='-', color='g', label='|f(x) - pi(x)|')\n",
        "plt.xlabel('a')\n",
        "plt.ylabel('Absolute Differences')\n",
        "plt.title('Comparison of |Li(x) - pi(x)| and |f(x) - pi(x)|')\n",
        "plt.legend()\n",
        "plt.grid(True)\n",
        "plt.show()\n",
        "\n",
        "# Plot the transformed function\n",
        "plt.figure(figsize=(12, 6))\n",
        "plt.plot(a_values, transformed_values, marker='o', linestyle='-', color='m', label='Transformed function')\n",
        "plt.xlabel('a')\n",
        "plt.ylabel('Transformed Value')\n",
        "plt.title('Plot of Transformed linear regression Function')\n",
        "plt.grid(True)\n",
        "plt.legend()\n",
        "plt.show()\n",
        "\n",
        "\n",
        "\n",
        "plt.figure(figsize=(12, 6))\n",
        "plt.plot(a_values, transformed_values_log, marker='o', linestyle='-', color='m', label='Transformed function')\n",
        "plt.xlabel('a')\n",
        "plt.ylabel('Transformed Value')\n",
        "plt.title('Plot of Transformed log regression Function')\n",
        "plt.grid(True)\n",
        "plt.legend()\n",
        "plt.show()\n",
        "plt.scatter(a_values, transformed_values, color='blue', label='Transformed values')\n",
        "plt.plot(a_values, y_pred, color='red', label='Quadratic fit')\n",
        "plt.xlabel('a_values')\n",
        "plt.ylabel('Transformed values')\n",
        "plt.title('Quadratic Polynomial Fit')\n",
        "plt.legend()\n",
        "plt.show()\n",
        "\n",
        "\n",
        "plt.figure(figsize=(12, 6))\n",
        "plt.plot(a_values, transformed_values_log, marker='o', linestyle='-', color='m', label='Transformed function')\n",
        "plt.xlabel('a')\n",
        "plt.ylabel('Transformed Value')\n",
        "plt.title('Plot of Transformed log regression Function')\n",
        "plt.grid(True)\n",
        "plt.legend()\n",
        "plt.show()\n",
        "plt.scatter(a_values, transformed_values, color='blue', label='Transformed values')\n",
        "plt.plot(a_values, y_pred, color='red', label='Quadratic fit')\n",
        "plt.xlabel('a_values')\n",
        "plt.ylabel('Transformed values')\n",
        "plt.title('Quadratic Polynomial Fit')\n",
        "plt.legend()\n",
        "plt.show()"
      ]
    },
    {
      "cell_type": "code",
      "execution_count": null,
      "metadata": {
        "id": "xX7dQqnkWLOU"
      },
      "outputs": [],
      "source": [
        "# Compute residuals\n",
        "residuals_log = np.array(x_solutions) - np.array(log_predictions)\n",
        "\n",
        "# Plot residuals\n",
        "plt.figure(figsize=(12, 6))\n",
        "plt.scatter(a_values, residuals_log, marker='o',linestyle='-', color='r', label='Residuals')\n",
        "plt.axhline(y=0, color='b', linestyle='--')\n",
        "plt.xlabel('a')\n",
        "plt.ylabel('Residuals')\n",
        "plt.title('Residuals Plot for Logarithmic Regression')\n",
        "plt.legend()\n",
        "plt.grid(True)\n",
        "plt.show()"
      ]
    },
    {
      "cell_type": "code",
      "execution_count": null,
      "metadata": {
        "id": "vhZ1E0cfPHCh"
      },
      "outputs": [],
      "source": [
        "import mpmath\n",
        "\n",
        "# Define the logarithmic integral function\n",
        "def li(x):\n",
        "    return mpmath.li(x)\n",
        "\n",
        "def most_left_digit_math(num):\n",
        "    num = abs(num)  # Work with the absolute value\n",
        "    while num >= 10:\n",
        "        num //= 10  # Integer division by 10\n",
        "    return int(num)\n",
        "\n",
        "# Define the modified function based on your previous code\n",
        "def modified_function2(a, rg):\n",
        "    argument = a - a / (rg * np.pi / 2)\n",
        "    if argument <= 0:\n",
        "        return np.nan\n",
        "    return  (a / np.log(argument))\n",
        "\n",
        "# Arrays to hold the results\n",
        "li_errors = []\n",
        "mod_errors = []\n",
        "diff_li=[]\n",
        "li_errors2=[]\n",
        "# Use your computed regression factor\n",
        "\n",
        "\n",
        "# Compute errors for each value of x\n",
        "index=0\n",
        "for a, x in zip(a_values, x_solutions):\n",
        "    pi_x = prime_pi[index]\n",
        "    li_x = li(a)\n",
        "    rg = log_params[0] + log_params[1] * np.log(a)\n",
        "    mod_x = modified_function2(a, rg)\n",
        "    #xlnx=a/(np.log(a))\n",
        "    #diff_li.append(li_x-xlnx)\n",
        "    first_digit=most_left_digit_math(a)\n",
        "    minus_num=np.floor((np.floor(np.log10(a))+1)/3)#np.floor(np.log10(a)-2)\n",
        "    print(minus_num+first_digit/10,minus_num,np.floor(np.log10(a)+1))\n",
        "    if first_digit>4:\n",
        "        li_errors2.append(li_x-pi_x-10**(minus_num+first_digit/20))\n",
        "    else:\n",
        "        li_errors2.append(li_x-pi_x-10**(minus_num+first_digit/10))\n",
        "    li_errors.append(li_x-pi_x)\n",
        "    mod_errors.append(abs(pi_x - mod_x))\n",
        "    index+=1\n",
        "# Create the plot\n",
        "plt.figure(figsize=(12, 8))\n",
        "plt.plot(a_values, li_errors,marker=\"o\", label='|π(a) - Li(a)|')\n",
        "plt.plot(a_values, mod_errors,marker=\"o\", label='|π(a) - Modified function|')\n",
        "plt.plot(a_values, li_errors2,marker=\"o\", label='|π(a) - modified li|')\n",
        "\n",
        "plt.title('Comparison of Absolute Errors: Li(a) vs Modified Function')\n",
        "plt.xlabel('a')\n",
        "plt.ylabel('Absolute Error')\n",
        "plt.legend(title='Error Type')\n",
        "plt.grid(True)\n",
        "\n",
        "# Save the plot as a PNG file\n",
        "plt.savefig(f'error_comparison_plot {a_start} to {a_end}.png', dpi=300, bbox_inches='tight')\n",
        "\n",
        "# Display the plot (optional, if you're running this in an environment that can show plots)\n",
        "plt.show()"
      ]
    },
    {
      "cell_type": "code",
      "execution_count": null,
      "metadata": {
        "id": "0XSw1dMrWojE"
      },
      "outputs": [],
      "source": [
        "\n",
        "\n",
        "# Transform a_values to log scale and reshape for sklearn\n",
        "log_a_values=a_values.reshape(-1, 1)\n",
        "# Ensure that abs(f(x) - pi(x)) is in a numpy array and reshaped for sklearn\n",
        "y_values = np.array(mod_errors).reshape(-1, 1)\n",
        "\n",
        "# Create a LinearRegression model\n",
        "lin_reg = LinearRegression()\n",
        "\n",
        "# Fit the model to the log-transformed data\n",
        "lin_reg.fit(log_a_values, y_values)\n",
        "\n",
        "# Get the predictions\n",
        "y_pred = lin_reg.predict(log_a_values)\n",
        "\n",
        "# Check for NaN or Inf in y_pred\n",
        "if np.any(np.isnan(y_pred)) or np.any(np.isinf(y_pred)):\n",
        "    raise ValueError(\"y_pred contains NaN or Inf values\")\n",
        "\n",
        "# Flatten y_values and y_pred for metrics calculations\n",
        "y_values = np.ravel(y_values)\n",
        "y_pred = np.ravel(y_pred)\n",
        "\n",
        "# Calculate R-squared\n",
        "r2 = r2_score(y_values, y_pred)\n",
        "print(f\"R-squared: {r2}\")\n",
        "\n",
        "# Calculate Mean Squared Error\n",
        "mse = mean_squared_error(y_values, y_pred)\n",
        "print(f\"Mean Squared Error: {mse}\")\n",
        "\n",
        "# Calculate Root Mean Squared Error\n",
        "rmse = np.sqrt(mse)\n",
        "print(f\"Root Mean Squared Error: {rmse}\")\n",
        "\n",
        "intercept = lin_reg.intercept_[0]\n",
        "slope = lin_reg.coef_[0][0]\n",
        "print(f\"Linear Regression Equation: y = {intercept:.32f} + {slope:.32f} * x\")\n",
        "\n",
        "# Plot the results\n",
        "plt.figure(figsize=(12, 6))\n",
        "plt.scatter(log_a_values, y_values, color='blue', label='Original Data')\n",
        "plt.plot(log_a_values, y_pred, color='red', label='Linear Fit')\n",
        "plt.xlabel('log(a_values)')\n",
        "plt.ylabel('abs(f(x) - pi(x))')\n",
        "plt.title('Linear Regression of abs(f(x) - pi(x))')\n",
        "plt.legend()\n",
        "plt.grid(True)\n",
        "\n",
        "\n",
        "\n",
        "# Create the plot\"\"\"\n",
        "plt.figure(figsize=(12, 8))\n",
        "plt.semilogy(a_values, li_errors,marker=\".\", label='|π(a) - Li(a)|')\n",
        "plt.semilogy(a_values, mod_errors,marker=\".\", label='|π(a) - Modified function|')\n",
        "\n",
        "\n",
        "plt.title('Comparison of Absolute Errors: Li(a) vs Modified Function')\n",
        "plt.xlabel('a')\n",
        "plt.ylabel('Absolute Error')\n",
        "plt.legend(title='Error Type')\n",
        "plt.grid(True)\n",
        "\n",
        "# Save the plot as a PNG file\n",
        "plt.savefig('error_comparison_plot ${a_start} to ${a_end} .png', dpi=300, bbox_inches='tight')\n",
        "\n",
        "# Display the plot (optional, if you're running this in an environment that can show plots)\n",
        "plt.show()"
      ]
    },
    {
      "cell_type": "code",
      "execution_count": null,
      "metadata": {
        "id": "toeEAk8yYreY"
      },
      "outputs": [],
      "source": [
        "mod_errors2=[]\n",
        "mod_ln=[]\n",
        "mod_ln_ln2=[]\n",
        "index=0\n",
        "\n",
        "\n",
        "for a, x in zip(a_values, x_solutions):\n",
        "    pi_x = prime_pi[index]\n",
        "    rg = log_params[0] + log_params[1] * np.log(a)\n",
        "    # y = {beta_0:.32f} + {beta_1:.32f}*x + {beta_2:.32f}*x^2\")\n",
        "    rg=0.00000000000002707791861318303864 * a + 0.97951396382809330365404321128153\n",
        "    mod_x = modified_function2(a, rg)+(beta_0 + beta_1*a + beta_2*a**2)\n",
        "\n",
        "    mod_errors2.append(abs(pi_x - mod_x))\n",
        "    lnFunc=a/(np.log(a)-1)\n",
        "    lnFunc2=a/(np.log(a)-2)\n",
        "    mod_ln.append(abs(pi_x - lnFunc))\n",
        "    mod_ln_ln2.append(abs(pi_x - lnFunc2))\n",
        "    index+=1\n",
        "plt.figure(figsize=(16, 8))\n",
        "plt.semilogy(a_values, li_errors,marker='.', label='|π(a) - Li(a)|')\n",
        "plt.semilogy(a_values, mod_errors2,marker='.', label='|π(a) - Modified function2|')\n",
        "plt.semilogy(a_values, mod_errors,marker='.', label='|π(a) - Modified function|')\n",
        "plt.semilogy(a_values, mod_ln,marker=\".\", label='|π(a) - x/lnx|')\n",
        "plt.semilogy(a_values, mod_ln_ln2,marker=\".\", label='modified ln')\n",
        "\n",
        "plt.title('Comparison of Absolute Errors: Li(a) vs Modified function2 vs x/ln(x) function')\n",
        "plt.xlabel('a')\n",
        "plt.ylabel('Absolute Error')\n",
        "plt.legend(title='Error Type')\n",
        "plt.grid(True)\n",
        "# Save the plot as a PNG file\n",
        "plt.savefig('error_comparison_plot.png', dpi=300, bbox_inches='tight')\n",
        "\n",
        "# Display the plot (optional, if you're running this in an environment that can show plots)\n",
        "plt.show()"
      ]
    },
    {
      "cell_type": "code",
      "execution_count": null,
      "metadata": {
        "id": "lV2Rr1vSZWqV"
      },
      "outputs": [],
      "source": [
        "plt.figure(figsize=(16, 8))\n",
        "plt.semilogy(a_values, li_errors,marker='.', label='|π(a) - Li(a)|')\n",
        "plt.semilogy(a_values, mod_errors2,marker='.', label='|π(a) - Modified function2|')\n",
        "plt.semilogy(a_values, mod_ln,marker=\".\", label='|π(a) - x/lnx|')\n",
        "plt.semilogy(a_values, mod_ln_ln2,marker=\".\", label='modified ln')\n",
        "\n",
        "plt.title('Comparison of Absolute Errors: Li(a) vs Modified function2 vs x/ln(x) function')\n",
        "plt.xlabel('a')\n",
        "plt.ylabel('Absolute Error')\n",
        "plt.legend(title='Error Type')\n",
        "plt.grid(True)\n",
        "# Save the plot as a PNG file\n",
        "plt.savefig('error_comparison_plot.png', dpi=300, bbox_inches='tight')\n",
        "\n",
        "# Display the plot (optional, if you're running this in an environment that can show plots)\n",
        "plt.show()"
      ]
    },
    {
      "cell_type": "code",
      "execution_count": null,
      "metadata": {
        "id": "kJDz5GeD616b"
      },
      "outputs": [],
      "source": [
        "plt.figure(figsize=(12, 8))\n",
        "plt.semilogy(a_values, mod_errors,marker='.', label='|π(a) - Li(a)|')\n",
        "plt.semilogy(a_values, mod_errors2,marker='.', label='|π(a) - Modified function2|')\n",
        "#plt.semilogy(a_values, mod_ln,marker=\".\", label='|π(a) - x/lnx|')\n",
        "#plt.semilogy(a_values, mod_ln_ln2,marker=\".\", label='|π(a) - x/lnx^2|')\n",
        "\n",
        "plt.title('Comparison of Absolute Errors: Li(a) vs Modified function2 vs x/ln(x) function')\n",
        "plt.xlabel('a')\n",
        "plt.ylabel('Absolute Error')\n",
        "plt.legend(title='Error Type')\n",
        "plt.grid(True)\n",
        "# Save the plot as a PNG file\n",
        "plt.savefig('error_comparison_plot.png', dpi=300, bbox_inches='tight')\n",
        "\n",
        "# Display the plot (optional, if you're running this in an environment that can show plots)\n",
        "plt.show()"
      ]
    }
  ],
  "metadata": {
    "colab": {
      "provenance": []
    },
    "kernelspec": {
      "display_name": "Python 3",
      "name": "python3"
    },
    "language_info": {
      "codemirror_mode": {
        "name": "ipython",
        "version": 3
      },
      "file_extension": ".py",
      "mimetype": "text/x-python",
      "name": "python",
      "nbconvert_exporter": "python",
      "pygments_lexer": "ipython3",
      "version": "3.11.2"
    }
  },
  "nbformat": 4,
  "nbformat_minor": 0
}