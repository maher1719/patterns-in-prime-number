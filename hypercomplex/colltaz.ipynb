{
 "cells": [
  {
   "cell_type": "code",
   "execution_count": null,
   "metadata": {},
   "outputs": [
    {
     "name": "stdout",
     "output_type": "stream",
     "text": [
      "536854528 is not a perfect number.\n"
     ]
    }
   ],
   "source": [
    "def is_perfect_number(n):\n",
    "    if n < 1:\n",
    "        return False  # There are no perfect numbers less than 1\n",
    "\n",
    "    divisors_sum = sum(i for i in range(1, n) if n % i == 0)\n",
    "\n",
    "    return divisors_sum == n\n",
    "\n",
    "# Taking input from the user\n",
    "n = int(input(\"Enter a number: \"))\n",
    "\n",
    "if is_perfect_number(n):\n",
    "    print(f\"{n} is a perfect number.\")\n",
    "else:\n",
    "    print(f\"{n} is not a perfect number.\")\n"
   ]
  },
  {
   "cell_type": "code",
   "execution_count": 22,
   "metadata": {},
   "outputs": [
    {
     "name": "stdout",
     "output_type": "stream",
     "text": [
      "89\n"
     ]
    }
   ],
   "source": [
    "import sympy\n",
    "print(sympy.prime(24))"
   ]
  }
 ],
 "metadata": {
  "kernelspec": {
   "display_name": "primes",
   "language": "python",
   "name": "python3"
  },
  "language_info": {
   "codemirror_mode": {
    "name": "ipython",
    "version": 3
   },
   "file_extension": ".py",
   "mimetype": "text/x-python",
   "name": "python",
   "nbconvert_exporter": "python",
   "pygments_lexer": "ipython3",
   "version": "3.11.2"
  }
 },
 "nbformat": 4,
 "nbformat_minor": 2
}
